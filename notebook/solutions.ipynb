{
 "cells": [
  {
   "cell_type": "markdown",
   "id": "d9d036c6",
   "metadata": {},
   "source": [
    "# Hypothesis testing solutions"
   ]
  },
  {
   "cell_type": "markdown",
   "id": "f7a22d13",
   "metadata": {},
   "source": [
    "## Exercise 1"
   ]
  },
  {
   "cell_type": "markdown",
   "id": "09354ed2",
   "metadata": {},
   "source": [
    "### 1. State the hypotheses\n",
    "\n",
    "* **Null Hypothesis ($H_0$)**: There is no significant difference in the average weight loss between the two diets. That is, the population means are equal: $\\mu_1 = \\mu_2$.\n",
    "* **Alternative Hypothesis ($H_1$)**: There is a significant difference in the average weight loss between the two diets. That is, the population means are not equal: $\\mu_1 \\neq \\mu_2$."
   ]
  },
  {
   "cell_type": "markdown",
   "id": "d0e7e27f",
   "metadata": {},
   "source": [
    "### 2. Check the Assumptions\n",
    "\n",
    "For the t-test for independent samples to be valid, the following assumptions should ideally be met:\n",
    "\n",
    "* **Independence**: The observations within each group are independent, and the groups themselves are independent. This is met as the groups were randomly selected.\n",
    "* **Normality**: The data in each group should be approximately normally distributed. With small sample sizes ($n=7$), it's difficult to verify this assumption visually or with a formal test, but for the purpose of this exercise, we assume it's met. In a real-world scenario, you might use a **Shapiro-Wilk test** to check for normality.\n",
    "* **Homogeneity of Variances**: The population variances of the two groups should be approximately equal. The `scipy.stats.ttest_ind` function assumes equal variances by default (`equal_var=True`). A **Levene's test** could be used to verify this assumption."
   ]
  },
  {
   "cell_type": "markdown",
   "id": "1a288221",
   "metadata": {},
   "source": [
    "### 3. Perform Student's t-test"
   ]
  },
  {
   "cell_type": "code",
   "execution_count": 25,
   "id": "5cea63a1",
   "metadata": {},
   "outputs": [
    {
     "name": "stdout",
     "output_type": "stream",
     "text": [
      "t-value: -3.5383407969933938\n",
      "p-value: 0.004083270191713912\n"
     ]
    }
   ],
   "source": [
    "import scipy.stats as stats\n",
    "\n",
    "diet_1 = [2.0, 2.5, 3.0, 2.8, 2.3, 2.7, 2.5]\n",
    "diet_2 = [3.0, 3.2, 3.1, 2.9, 2.8, 3.0, 3.2]\n",
    "\n",
    "# Student's t-test\n",
    "t_value, p_value = stats.ttest_ind(diet_1, diet_2)\n",
    "\n",
    "print(f\"t-value: {t_value}\")\n",
    "print(f\"p-value: {p_value}\")"
   ]
  },
  {
   "cell_type": "markdown",
   "id": "b5776261",
   "metadata": {},
   "source": [
    "### 4. Conclusion\n",
    "\n",
    "We compare the p-value with a chosen significance level, typically $\\alpha = 0.05$.\n",
    "\n",
    "* Since the **p-value (0.0041)** is less than the significance level **(0.05)**, we **reject the null hypothesis ($H_0$)**.\n",
    "* This suggests that there is a **statistically significant difference** in the average weight loss between the two diets. In other words, the difference observed is unlikely to be due to random chance."
   ]
  },
  {
   "cell_type": "markdown",
   "id": "b1f85e81",
   "metadata": {},
   "source": [
    "## Exercise 2"
   ]
  },
  {
   "cell_type": "markdown",
   "id": "957845e9",
   "metadata": {},
   "source": [
    "### 1. State the hypotheses\n",
    "\n",
    "* **Null Hypothesis ($H_0$)**: The average corn yield for all three fertilizers is equal. That is, $\\mu_1 = \\mu_2 = \\mu_3$.\n",
    "* **Alternative Hypothesis ($H_1$)**: At least one of the fertilizer average corn yields is different from the others. That is, at least one $\\mu_i \\neq \\mu_j$."
   ]
  },
  {
   "cell_type": "markdown",
   "id": "77a5477f",
   "metadata": {},
   "source": [
    "### 2. Check the Assumptions\n",
    "\n",
    "For a one-way ANOVA to be valid, the following assumptions should be met:\n",
    "\n",
    "* **Independence**: The samples from each group (fertilizer) are independent. This is met, as the plots are distinct from each other.\n",
    "* **Normality**: The data within each group should be approximately normally distributed. With only 5 plots per fertilizer, it's difficult to confirm, but we assume it holds.\n",
    "* **Homogeneity of Variances**: The population variances of the three groups are equal. This can be tested using Levene's test."
   ]
  },
  {
   "cell_type": "code",
   "execution_count": 22,
   "id": "5425faf6",
   "metadata": {},
   "outputs": [
    {
     "name": "stdout",
     "output_type": "stream",
     "text": [
      "Levene's test p-value: 0.8039599174006208\n"
     ]
    }
   ],
   "source": [
    "import scipy.stats as stats\n",
    "\n",
    "fertilizer_1 = [20, 21, 20, 19, 20]\n",
    "fertilizer_2 = [22, 21, 23, 22, 21]\n",
    "fertilizer_3 = [24, 23, 22, 23, 24]\n",
    "\n",
    "# Levene's test for homogeneity of variances\n",
    "levene_test = stats.levene(fertilizer_1, fertilizer_2, fertilizer_3)\n",
    "print(f\"Levene's test p-value: {levene_test.pvalue}\")"
   ]
  },
  {
   "cell_type": "markdown",
   "id": "d1466a32",
   "metadata": {},
   "source": [
    "### 3. Perform ANOVA test"
   ]
  },
  {
   "cell_type": "code",
   "execution_count": 23,
   "id": "90f4d3a6",
   "metadata": {},
   "outputs": [
    {
     "name": "stdout",
     "output_type": "stream",
     "text": [
      "f-value: 20.31578947368421\n",
      "p-value: 0.000140478247931904\n"
     ]
    }
   ],
   "source": [
    "# ANOVA test\n",
    "f_value, p_value = stats.f_oneway(fertilizer_1, fertilizer_2, fertilizer_3)\n",
    "print(f\"f-value: {f_value}\")\n",
    "print(f\"p-value: {p_value}\")"
   ]
  },
  {
   "cell_type": "markdown",
   "id": "8e8e04cb",
   "metadata": {},
   "source": [
    "### 4. Analyze the Conclusions\n",
    "\n",
    "* The **p-value (0.00014)** is less than the significance level **(0.05)**.\n",
    "* Therefore, we **reject the null hypothesis ($H_0$)**.\n",
    "* This indicates that there is a **significant difference** in the average corn yield between at least two of the three fertilizers. However, the ANOVA test alone **does not tell us which specific pairs of fertilizers are different**."
   ]
  },
  {
   "cell_type": "markdown",
   "id": "56265c27",
   "metadata": {},
   "source": [
    "### 5. Post-hoc Test: Obtaining the Best Fertilizer\n",
    "\n",
    "To find out which fertilizer is superior, we need to perform a **post-hoc test**. Tukey's HSD (Honestly Significant Difference) is a common choice for this."
   ]
  },
  {
   "cell_type": "code",
   "execution_count": 24,
   "id": "fcaece07",
   "metadata": {},
   "outputs": [
    {
     "name": "stdout",
     "output_type": "stream",
     "text": [
      "Multiple Comparison of Means - Tukey HSD, FWER=0.05\n",
      "==================================================\n",
      "group1 group2 meandiff p-adj  lower  upper  reject\n",
      "--------------------------------------------------\n",
      "    F1     F2      1.8 0.0099 0.4572 3.1428   True\n",
      "    F1     F3      3.2 0.0001 1.8572 4.5428   True\n",
      "    F2     F3      1.4 0.0409 0.0572 2.7428   True\n",
      "--------------------------------------------------\n"
     ]
    }
   ],
   "source": [
    "import numpy as np\n",
    "from statsmodels.stats.multicomp import pairwise_tukeyhsd\n",
    "\n",
    "data = np.concatenate([fertilizer_1, fertilizer_2, fertilizer_3])\n",
    "labels = [\"F1\"] * 5 + [\"F2\"] * 5 + [\"F3\"] * 5\n",
    "\n",
    "# Tukey test\n",
    "result = pairwise_tukeyhsd(data, labels, alpha = 0.05)\n",
    "print(result)"
   ]
  },
  {
   "cell_type": "markdown",
   "id": "e0e6c106",
   "metadata": {},
   "source": [
    "**Interpreting the Results:**\n",
    "The `reject` column shows whether there is a statistically significant difference between a pair of groups.\n",
    "\n",
    "* `F1` vs `F2`: `reject=True`. There is a significant difference.\n",
    "* `F1` vs `F3`: `reject=True`. There is a significant difference.\n",
    "* `F2` vs `F3`: `reject=True`. There is a significant difference.\n",
    "\n",
    "All fertilizer groups are significantly different from each other. Now, we look at the `meandiff` column to see the magnitude and direction of the difference.\n",
    "\n",
    "* The average yield of F2 is 1.8 kg higher than F1.\n",
    "* The average yield of F3 is 3.2 kg higher than F1.\n",
    "* The average yield of F3 is 1.4 kg higher than F2.\n",
    "\n",
    "Based on these results, **Fertilizer 3** provided the highest average yield, making it the most effective of the three fertilizers tested."
   ]
  }
 ],
 "metadata": {
  "kernelspec": {
   "display_name": "Python 3",
   "language": "python",
   "name": "python3"
  },
  "language_info": {
   "codemirror_mode": {
    "name": "ipython",
    "version": 3
   },
   "file_extension": ".py",
   "mimetype": "text/x-python",
   "name": "python",
   "nbconvert_exporter": "python",
   "pygments_lexer": "ipython3",
   "version": "3.11.4"
  }
 },
 "nbformat": 4,
 "nbformat_minor": 5
}
