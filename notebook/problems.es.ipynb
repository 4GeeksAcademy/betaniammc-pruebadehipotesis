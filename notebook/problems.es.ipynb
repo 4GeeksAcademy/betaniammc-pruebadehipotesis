{
 "cells": [
  {
   "cell_type": "code",
   "execution_count": 34,
   "id": "6a3eb267",
   "metadata": {},
   "outputs": [],
   "source": [
    "import numpy as np\n",
    "import scipy.stats as stats\n",
    "from statsmodels.stats.multicomp import pairwise_tukeyhsd"
   ]
  },
  {
   "cell_type": "markdown",
   "id": "d9d036c6",
   "metadata": {},
   "source": [
    "# Problemas de prueba de hipótesis"
   ]
  },
  {
   "cell_type": "markdown",
   "id": "d157c4db",
   "metadata": {},
   "source": [
    "## Ejercicio 1\n",
    "\n",
    "Usted es un nutricionista que investiga dos tipos diferentes de dietas para ver si existe una diferencia significativa en la pérdida de peso después de un mes. Eliges dos grupos aleatorios de personas; un grupo sigue la primera dieta y el otro sigue la segunda. Al final del mes, se registra la pérdida de peso (en kg) de cada persona:\n",
    "\n",
    "| Diet 1 | Diet 2 |\n",
    "|:-------|:-------|\n",
    "| 2.0 | 3.0 |\n",
    "| 2.5 | 3.2 |\n",
    "| 3.0 | 3.1 |\n",
    "| 2.8 | 2.9 |\n",
    "| 2.3 | 2.8 |\n",
    "| 2.7 | 3.0 |\n",
    "| 2.5 | 3.2 |\n",
    "\n",
    "Con estos datos se busca responder a la siguiente pregunta: ¿Existe una diferencia significativa en la pérdida de peso promedio entre las personas que siguieron la primera dieta y las que siguieron la segunda dieta?\n",
    "\n",
    "Para sacar conclusiones, siga los siguientes puntos:\n",
    "\n",
    "-Enunciar la hipótesis: hipótesis nula y alternativa.\n",
    "-Realizar la prueba para comprobar la hipótesis. Puede utilizar la prueba t de Student.\n",
    "-Analizar las conclusiones."
   ]
  },
  {
   "cell_type": "markdown",
   "id": "0e31312d",
   "metadata": {},
   "source": [
    "# hipotesis\n",
    "- H0 = no existe una diferencia significativa\n",
    "- H1 = existe una diferencia Significativa"
   ]
  },
  {
   "cell_type": "code",
   "execution_count": 35,
   "id": "4d2aa439",
   "metadata": {},
   "outputs": [],
   "source": [
    "dieta_uno = np.array([2.0, 2.5, 3.0, 2.8, 2.3, 2.7, 2.5])\n",
    "dieta_dos = np.array([3.0, 3.2, 3.1, 2.9, 2.8, 3.0, 3.2])\n",
    "\n",
    "mu1, mu2=float(dieta_uno.mean()), float(dieta_dos.mean())\n"
   ]
  },
  {
   "cell_type": "markdown",
   "id": "228edfa1",
   "metadata": {},
   "source": [
    "# prueba de t-student"
   ]
  },
  {
   "cell_type": "code",
   "execution_count": 49,
   "id": "d091311e",
   "metadata": {},
   "outputs": [
    {
     "data": {
      "text/plain": [
       "0.004083270191713912"
      ]
     },
     "execution_count": 49,
     "metadata": {},
     "output_type": "execute_result"
    }
   ],
   "source": [
    "alpha = 0.05\n",
    "p_value = float(stats.ttest_ind(dieta_uno, dieta_dos).pvalue)\n",
    "p_value"
   ]
  },
  {
   "cell_type": "markdown",
   "id": "1f9605a3",
   "metadata": {},
   "source": [
    "- se rechaza H0 por lo cual existe una diferencia significativa, para el analisis de cual es mas efectiva se realiza la misma prueba pero esta véz midiendo cual de las dos dietas es mas efectiva."
   ]
  },
  {
   "cell_type": "markdown",
   "id": "11be1ad9",
   "metadata": {},
   "source": [
    "# hipotesis\n",
    "- H0 = la dieta uno es mas efectiva\n",
    "- H1 = la dieta dos es mas efectiva"
   ]
  },
  {
   "cell_type": "code",
   "execution_count": null,
   "id": "6d41855f",
   "metadata": {},
   "outputs": [
    {
     "data": {
      "text/plain": [
       "0.002041635095856956"
      ]
     },
     "execution_count": 37,
     "metadata": {},
     "output_type": "execute_result"
    }
   ],
   "source": [
    "\n",
    "p_value = float(stats.ttest_ind(dieta_uno, dieta_dos, alternative = \"less\").pvalue)\n",
    "p_value"
   ]
  },
  {
   "cell_type": "markdown",
   "id": "9cfe96e3",
   "metadata": {},
   "source": [
    "# Conclusiones\n",
    "- se rechaza la hipotesis nula y se acepta la hipotesis de que la dieta dos es mas efectiva"
   ]
  },
  {
   "cell_type": "markdown",
   "id": "f432e18e",
   "metadata": {},
   "source": [
    "## ANOVA\n",
    "\n",
    "**ANOVA** (*Analysis of Variance - Análisis de variación*) Es una técnica estadística utilizada para comparar las medidas de dos o más grupos. La idea detrás de ANOVA es descomponer la variabilidad total de los datos en dos componentes: variabilidad entre grupos y variabilidad dentro de los grupos:\n",
    "\n",
    "- **Variabilidad entre grupos**: Esta variabilidad se refiere a las diferencias entre las medias del grupo. Si esta variabilidad es considerablemente mayor que la variabilidad dentro del grupo, podría ser una indicación de que al menos una de las medias del grupo es diferente.\n",
    "- **Variabilidad dentro del grupo**: Esta variabilidad se refiere a la dispersión de los datos dentro de cada grupo. Si todos los grupos tienen una variabilidad similar, entonces cualquier diferencia notable en las medias de los grupos podría considerarse significativa.\n",
    "\n",
    "Las hipótesis en ANOVA suelen incluir:\n",
    "\n",
    "- **Hipótesis nula** ($H₀$): Las medias de todos los grupos son iguales.\n",
    "- **Hipótesis alternativa** ($H₁$): Al menos una de las medias del grupo es diferente.\n",
    "\n",
    "Si el resultado de la prueba ANOVA es significativo (por ejemplo, un valor p inferior a un umbral como 0,05), esto sugiere que al menos la media de un grupo es diferente."
   ]
  },
  {
   "cell_type": "markdown",
   "id": "fc5f3721",
   "metadata": {},
   "source": [
    "## Ejercicio 2\n",
    "\n",
    "Un agricultor decide probar tres tipos diferentes de fertilizantes para determinar si alguno es superior en términos de producción de maíz. El agricultor planta maíz en 15 parcelas idénticas y utiliza los tres fertilizantes (5 parcelas para cada tipo). Al final de la temporada mide el rendimiento de maíz (en kg) de cada parcela, con el siguiente resultado:\n",
    "\n",
    "| Fertilizante 1 | Fertilizante 2 | Fertilizante 3 |\n",
    "|:-------------|:-------------|:-------------|\n",
    "| 20 | 22 | 24 |\n",
    "| 21 | 21 | 23 |\n",
    "| 20 | 23 | 22 |\n",
    "| 19 | 22 | 23 |\n",
    "| 20 | 21 | 24 |\n",
    "\n",
    "Con estos datos busca responder la siguiente pregunta: ¿Existe una diferencia significativa en el rendimiento promedio del maíz entre los tres tipos de fertilizantes?\n",
    "\n",
    "Para ayudarte, sigue los siguientes puntos:\n",
    "\n",
    "-Enunciar la hipótesis: hipótesis nula y alternativa.\n",
    "-Realizar la prueba ANOVA.\n",
    "-Analizar las conclusiones.\n",
    "-Si un fertilizante es mejor que otro, ¿cómo podemos saberlo?"
   ]
  },
  {
   "cell_type": "markdown",
   "id": "3a4656b3",
   "metadata": {},
   "source": [
    "# hipotesis\n",
    "\n",
    "- H₀ (hipótesis nula): todas las medias de los grupos son iguales.\n",
    "\n",
    "- H₁ (hipótesis alternativa): al menos una de las medias es diferente."
   ]
  },
  {
   "cell_type": "code",
   "execution_count": null,
   "id": "eecad0ca",
   "metadata": {},
   "outputs": [
    {
     "data": {
      "text/plain": [
       "0.8039599174006208"
      ]
     },
     "execution_count": 38,
     "metadata": {},
     "output_type": "execute_result"
    }
   ],
   "source": [
    "# datos\n",
    "fertilizante_uno =np.array([20, 21, 20, 19, 20])\n",
    "fertilizante_dos = np.array([22, 21, 23, 22, 21])\n",
    "fertilizante_tres = np.array([24, 23, 22, 23, 24])"
   ]
  },
  {
   "cell_type": "markdown",
   "id": "917ccf39",
   "metadata": {},
   "source": [
    "# prueba de levene"
   ]
  },
  {
   "cell_type": "code",
   "execution_count": 50,
   "id": "3c4c768b",
   "metadata": {},
   "outputs": [
    {
     "data": {
      "text/plain": [
       "0.8039599174006208"
      ]
     },
     "execution_count": 50,
     "metadata": {},
     "output_type": "execute_result"
    }
   ],
   "source": [
    "p_levene = float(stats.levene(fertilizante_uno, fertilizante_dos, fertilizante_tres).pvalue)\n",
    "p_levene"
   ]
  },
  {
   "cell_type": "markdown",
   "id": "24916cfd",
   "metadata": {},
   "source": [
    "- como el p_value en la prueba de levene p > 0.05, las varianzas son iguales → se cumple el supuesto de homocedasticidad, necesario para para poder realizar el test de anova"
   ]
  },
  {
   "cell_type": "markdown",
   "id": "f02cf90e",
   "metadata": {},
   "source": [
    "# Test de shapiro"
   ]
  },
  {
   "cell_type": "code",
   "execution_count": 39,
   "id": "d000fe62",
   "metadata": {},
   "outputs": [
    {
     "data": {
      "text/plain": [
       "(np.float64(0.32542950716414576),\n",
       " np.float64(0.3140395561440371),\n",
       " np.float64(0.3140395561440371))"
      ]
     },
     "execution_count": 39,
     "metadata": {},
     "output_type": "execute_result"
    }
   ],
   "source": [
    "shapiro_uno = stats.shapiro(fertilizante_uno).pvalue\n",
    "shapiro_dos = stats.shapiro(fertilizante_dos).pvalue\n",
    "shapiro_tres = stats.shapiro(fertilizante_tres).pvalue\n",
    "\n",
    "shapiro_uno, shapiro_tres, shapiro_tres\n"
   ]
  },
  {
   "cell_type": "markdown",
   "id": "3e2534e4",
   "metadata": {},
   "source": [
    "- el test de shapiro para todos los grupos es mayor a 0.05 lo que indica que todos los datos de los tres grupos pueden considerarse como normal"
   ]
  },
  {
   "cell_type": "markdown",
   "id": "08a21c7b",
   "metadata": {},
   "source": [
    "- dado que el test de shapiro y la prueba de levene nos han arrojado resultados favorables para las pruebas procedemos a hacer el test de anova."
   ]
  },
  {
   "cell_type": "markdown",
   "id": "3620cd65",
   "metadata": {},
   "source": [
    "# Test de Anova"
   ]
  },
  {
   "cell_type": "code",
   "execution_count": 40,
   "id": "cc7d4a12",
   "metadata": {},
   "outputs": [
    {
     "data": {
      "text/plain": [
       "np.float64(0.000140478247931904)"
      ]
     },
     "execution_count": 40,
     "metadata": {},
     "output_type": "execute_result"
    }
   ],
   "source": [
    "anova = stats.f_oneway(fertilizante_uno, fertilizante_dos, fertilizante_tres).pvalue\n",
    "anova"
   ]
  },
  {
   "cell_type": "markdown",
   "id": "44d36777",
   "metadata": {},
   "source": [
    "#  Conclusión de la hipótesis"
   ]
  },
  {
   "cell_type": "markdown",
   "id": "425b97e4",
   "metadata": {},
   "source": [
    "se rechaza la hipotesis nula y se acepta que al menos una de las medias es diferente. El test de anova nos indica que al menos uno de los grupos presenta medias diferentes pero no nos indica cual de ellos, para obtener que gurpo esta marcando la diferencia tenemos que realizar el test de tukey"
   ]
  },
  {
   "cell_type": "code",
   "execution_count": 48,
   "id": "dfef2f36",
   "metadata": {},
   "outputs": [
    {
     "name": "stdout",
     "output_type": "stream",
     "text": [
      "       Multiple Comparison of Means - Tukey HSD, FWER=0.05        \n",
      "==================================================================\n",
      "    group1         group2     meandiff p-adj  lower  upper  reject\n",
      "------------------------------------------------------------------\n",
      "Fertilizante 1 Fertilizante 2      1.8 0.0099 0.4572 3.1428   True\n",
      "Fertilizante 1 Fertilizante 3      3.2 0.0001 1.8572 4.5428   True\n",
      "Fertilizante 2 Fertilizante 3      1.4 0.0409 0.0572 2.7428   True\n",
      "------------------------------------------------------------------\n"
     ]
    }
   ],
   "source": [
    "# Combinar todos los valores\n",
    "valores = list(fertilizante_uno) + list(fertilizante_dos) + list(fertilizante_tres)\n",
    "\n",
    "# Crear etiquetas correspondientes\n",
    "grupos = (['Fertilizante 1'] * len(fertilizante_uno) +\n",
    "          ['Fertilizante 2'] * len(fertilizante_dos) +\n",
    "          ['Fertilizante 3'] * len(fertilizante_tres))\n",
    "\n",
    "tukey = pairwise_tukeyhsd(endog=valores, groups=grupos, alpha=0.05)\n",
    "print(tukey)"
   ]
  },
  {
   "cell_type": "markdown",
   "id": "33667e03",
   "metadata": {},
   "source": [
    "# Conclusiones"
   ]
  },
  {
   "cell_type": "markdown",
   "id": "192d06e9",
   "metadata": {},
   "source": [
    "- al observar las diferencias de medias entren el grupo 1 y 3, el grupo 2 y 3 se observa que el grupo 3 tiene una mayor media, estando de segundo lugar el grupo 2 y de ultimo el grupo 1 lo que indica mayor efectividad del fertilizante tres, en segundo lugar el fertilizante dos y de tercer lugar el fertilizante uno"
   ]
  }
 ],
 "metadata": {
  "kernelspec": {
   "display_name": "Python 3",
   "language": "python",
   "name": "python3"
  },
  "language_info": {
   "codemirror_mode": {
    "name": "ipython",
    "version": 3
   },
   "file_extension": ".py",
   "mimetype": "text/x-python",
   "name": "python",
   "nbconvert_exporter": "python",
   "pygments_lexer": "ipython3",
   "version": "3.11.4"
  }
 },
 "nbformat": 4,
 "nbformat_minor": 5
}
